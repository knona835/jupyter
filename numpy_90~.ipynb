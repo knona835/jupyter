{
 "cells": [
  {
   "cell_type": "markdown",
   "metadata": {},
   "source": [
    "# NumPy\n",
    "***\n",
    "## NumPyのインストール\n",
    "***\n",
    "`pip install numpy`\n",
    "\n",
    "NumPyをJupyter Notebookで扱うときはpipでインストールしておかないといけない（Jupyter入れてたら一緒に入ってくるわけではない）\n",
    "なお、仮想環境上で実行するのが一般的なので、\n",
    "```\n",
    "    python -m venv hoge\n",
    "    ./hoge/Scripts/Activate.ps1\n",
    "```\n",
    "で仮想環境に入ろう。\n",
    "\n",
    "## NumPyの使用\n",
    "***\n",
    "一般的には\n",
    "`import numpy as np`\n",
    "でインポートする\n",
    "\n",
    "## 配列データを扱う\n",
    "***"
   ]
  },
  {
   "cell_type": "code",
   "execution_count": 8,
   "metadata": {},
   "outputs": [
    {
     "data": {
      "text/plain": [
       "(3,)"
      ]
     },
     "execution_count": 8,
     "metadata": {},
     "output_type": "execute_result"
    }
   ],
   "source": [
    "import numpy as np\n",
    "a = np.array([1,2,3])\n",
    "a.shape"
   ]
  },
  {
   "cell_type": "code",
   "execution_count": 2,
   "metadata": {},
   "outputs": [
    {
     "data": {
      "text/plain": [
       "array([0, 1, 2, 3, 4, 5])"
      ]
     },
     "execution_count": 2,
     "metadata": {},
     "output_type": "execute_result"
    }
   ],
   "source": [
    "import numpy as np\n",
    "b = np.array([[1,2,3], [4,5,6]])\n",
    "b\n",
    "b.shape\n",
    "\n",
    "c1 = np.array([0,1,2,3,4,5])\n",
    "c1\n",
    "\n",
    "c2 = c1.reshape((2, 3)) #一次元配列を二次元配列(一行につき3要素)にする\n",
    "\"\"\"\n",
    "この要素数が均等に合わないようにするとValueErrorを返されてしまう。\n",
    "\"\"\"\n",
    "c2\n",
    "\n",
    "c3 = c2.ravel() #二次元配列を一次元にしたものを「参照で」返す\n",
    "c3\n",
    "\n",
    "c4 = c2.flatten() #二次元配列を一次元にしたものを「コピーで」返す\n",
    "c4"
   ]
  },
  {
   "cell_type": "markdown",
   "metadata": {},
   "source": [
    "## 一次元配列の操作"
   ]
  },
  {
   "cell_type": "code",
   "execution_count": 17,
   "metadata": {},
   "outputs": [
    {
     "data": {
      "text/plain": [
       "3"
      ]
     },
     "execution_count": 17,
     "metadata": {},
     "output_type": "execute_result"
    }
   ],
   "source": [
    "import numpy as np\n",
    "a = np.array([1,2,3])\n",
    "a.dtype #データタイプを出力できる\n",
    "\n",
    "d = np.array([1,2], dtype=np.int16) #明示的にデータタイプを指定可能\n",
    "d.dtype #int16\n",
    "d.astype(np.float16) #astypeで浮動小数点floatに変換可能\n",
    "a[0] #配列指定可能\n",
    "a[1:] #:をつければスライスで（後ろ全部）取得可能\n",
    "a[-1] #負のインデックス指定可能"
   ]
  },
  {
   "cell_type": "markdown",
   "metadata": {},
   "source": [
    "## 二次元配列の操作"
   ]
  },
  {
   "cell_type": "code",
   "execution_count": 26,
   "metadata": {},
   "outputs": [
    {
     "data": {
      "text/plain": [
       "array([[1, 3],\n",
       "       [4, 6]])"
      ]
     },
     "execution_count": 26,
     "metadata": {},
     "output_type": "execute_result"
    }
   ],
   "source": [
    "import numpy as np\n",
    "\n",
    "b = np.array([[1, 2, 3],\n",
    "      [4, 5, 6]]) #([[],[],...])となることを忘れずに\n",
    "b\n",
    "\n",
    "b[0] #←一行目(1,2,3)の値を取得できる\n",
    "b[1, 0] #←2行1列目を取得\n",
    "b[:, 2] #3列目をすべて取得\n",
    "b[1, :] #1行目をすべて取得\n",
    "\n",
    "b[0, 1:] #取得する開始・終了範囲を指定することも出できる\n",
    "\n",
    "b[:, [0, 2]] #すべての行の1列目、3列目を取得している"
   ]
  },
  {
   "cell_type": "markdown",
   "metadata": {},
   "source": [
    "## 深いコピー\n",
    "***\n",
    "`変数1 = 変数2`とすると、変数を参照する形になるので、変数2が変わると変数1もかわる。"
   ]
  },
  {
   "cell_type": "code",
   "execution_count": 34,
   "metadata": {},
   "outputs": [
    {
     "data": {
      "text/plain": [
       "array([4, 2, 3])"
      ]
     },
     "execution_count": 34,
     "metadata": {},
     "output_type": "execute_result"
    }
   ],
   "source": [
    "import numpy as np\n",
    "\n",
    "a = np.array([1, 2, 3])\n",
    "a1 = a\n",
    "a1 #>aと同じarray([1, 2, 3])\n",
    "\n",
    "a[0] = 4\n",
    "\n",
    "a1 #これはarray([4, 2, 3])になる。7行目でaを変更したため。\n",
    "\n",
    "a2 = a.copy()\n",
    "a2 #aと同じものが入っている、当然。\n",
    "\n",
    "a2[0] = 6\n",
    "a2 #もちろんarray([6, 2, 3])\n",
    "\n",
    "a #こちらは1要素目を6に変更したところは反映されていない。 array([4, 2, 3])"
   ]
  },
  {
   "cell_type": "markdown",
   "metadata": {},
   "source": [
    "## 配列の振り返り(変形におけるravelメソッドとflattenメソッド)\n",
    "***"
   ]
  },
  {
   "cell_type": "code",
   "execution_count": 43,
   "metadata": {},
   "outputs": [
    {
     "data": {
      "text/plain": [
       "array([[6, 1, 2],\n",
       "       [3, 4, 5]])"
      ]
     },
     "execution_count": 43,
     "metadata": {},
     "output_type": "execute_result"
    }
   ],
   "source": [
    "# import numpy as np\n",
    "\n",
    "c = np.array([[0, 1, 2],\n",
    "          [3, 4, 5]])\n",
    "c1 = c.ravel() #参照で返す\n",
    "c2 = c.flatten() #コピーで返す\n",
    "\n",
    "c1\n",
    "c2 #両方同じ出力\n",
    "\n",
    "c1[0] = 6\n",
    "c2[1] = 7\n",
    "\n",
    "c1 #array([6, 1, 2, 3, 4, 5])\n",
    "c2 #array([0, 7, 2, 3, 4, 5])\n",
    "\n",
    "\"\"\"\n",
    "array([[6, 1, 2],\n",
    "       [3, 4, 5]])\n",
    "となる。c1(参照)の影響を受けている形である。\n",
    "\"\"\"\n",
    "c"
   ]
  },
  {
   "cell_type": "markdown",
   "metadata": {},
   "source": [
    "## Python標準スライスと、NumPyにおけるスライス\n",
    "***\n",
    "2つの出力結果には違いがある。\n",
    "- Python標準：コピーが渡される\n",
    "- NumPy：参照が渡される"
   ]
  },
  {
   "cell_type": "code",
   "execution_count": 54,
   "metadata": {},
   "outputs": [
    {
     "name": "stdout",
     "output_type": "stream",
     "text": [
      "----標準のスライス----\n",
      "py_list1：[0, 1]\n",
      "py_list2：[2, 1]\n",
      "----NumPyにおけるスライス----\n",
      "np_array1：[2 1]\n",
      "np_array2：[2 1]\n"
     ]
    }
   ],
   "source": [
    "import numpy as np\n",
    "\n",
    "#標準のスライス\n",
    "\n",
    "py_list1 = [0, 1]\n",
    "py_list2 = py_list1[:] #スライス\n",
    "py_list2[0] = 2\n",
    "\n",
    "print(\"----標準のスライス----\")\n",
    "print(\"py_list1：\" + str(py_list1))\n",
    "print(\"py_list2：\" + str(py_list2)) #標準のスライスにおいてはコピーが渡される。その証拠にpy_list1には変更が反映されていない。\n",
    "\n",
    "#numpyにおけるスライス\n",
    "\n",
    "np_array1 = np.array([0, 1])\n",
    "np_array2 = np_array1[:]\n",
    "np_array2[0] = 2\n",
    "\n",
    "print(\"----NumPyにおけるスライス----\")\n",
    "print(\"np_array1：\" + str(np_array1))\n",
    "print(\"np_array2：\" + str(np_array2)) #NumPyにおけるスライスでは参照が渡される。その証拠にnp_array1に変更が反映されている。(要素1が2になっている）"
   ]
  },
  {
   "cell_type": "markdown",
   "metadata": {},
   "source": [
    "## 数列を返す\n",
    "***\n",
    "Pythonのrange関数のような数列を作る関数がNumPyにもあります。\n",
    "arrange関数でNumPy配列(ndarray)が生成される。\n",
    "***"
   ]
  },
  {
   "cell_type": "code",
   "execution_count": 60,
   "metadata": {},
   "outputs": [
    {
     "data": {
      "text/plain": [
       "array([1, 3, 5, 7, 9])"
      ]
     },
     "execution_count": 60,
     "metadata": {},
     "output_type": "execute_result"
    }
   ],
   "source": [
    "import numpy as np\n",
    "\n",
    "np.arange(10) #順列を作成\n",
    "np.arange(1,11) #開始地点や終了地点を指定できる。第2引数の一つ手前までの数値までの配列を生成できる。\n",
    "np.arange(1, 11, 2) #第3引数で増分を指定できる"
   ]
  },
  {
   "cell_type": "markdown",
   "metadata": {},
   "source": [
    "## 乱数\n",
    "***\n",
    "NumPyの乱数発生関数は標準のrandom関数よりも高速に動作し、強力。"
   ]
  },
  {
   "cell_type": "code",
   "execution_count": 4,
   "metadata": {},
   "outputs": [
    {
     "data": {
      "text/plain": [
       "array([[-1.0856306 ,  0.99734545],\n",
       "       [ 0.2829785 , -1.50629471],\n",
       "       [-0.57860025,  1.65143654],\n",
       "       [-2.42667924, -0.42891263]])"
      ]
     },
     "execution_count": 4,
     "metadata": {},
     "output_type": "execute_result"
    }
   ],
   "source": [
    "import numpy as np\n",
    "\n",
    "f = np.random.random((3, 2))\n",
    "f #3行2列のランダム配列を作成\n",
    "\n",
    "np.random.seed(123) #シード値を固定することによって出力も固定できる。（テキストと同じ出力が出ている。）\n",
    "np.random.random((3, 2))\n",
    "#実際には乱数の固定は使わない\n",
    "\n",
    "np.random.seed(123)\n",
    "np.random.randint(1, 10) #1~10の間でランダムにintを出力(今回は3を出力)\n",
    "\n",
    "np.random.seed(123)\n",
    "np.random.randint(1, 10, (3, 3)) #第三引数で配列として行列数の指定ができる。\n",
    "#106ページまで\n",
    "\n",
    "np.random.seed(123)\n",
    "np.random.uniform(0.0, 0.5, size=(2, 3)) #第一引数~第二引数で第三引数で指定した分の配列を返す。\n",
    "#randintとの違いは小数値が返ってくるというところ\n",
    "\n",
    "np.random.seed(123)\n",
    "np.random.uniform(size=(4, 3)) #範囲の指定がないと0~1の範囲から配列を作成する"
   ]
  },
  {
   "cell_type": "markdown",
   "metadata": {},
   "source": [
    "## 正規分布に従った乱数の出力\n",
    "***\n",
    "ここまでの乱数出力は一様乱数という範囲の中からランダムにピックアップするメソッドだった。\n",
    "正規分布に従った乱数出力は`np.random.randn`を用いる。\n",
    "***"
   ]
  },
  {
   "cell_type": "code",
   "execution_count": 9,
   "metadata": {},
   "outputs": [
    {
     "data": {
      "text/plain": [
       "array([[-1.0856306 ,  0.99734545],\n",
       "       [ 0.2829785 , -1.50629471],\n",
       "       [-0.57860025,  1.65143654],\n",
       "       [-2.42667924, -0.42891263]])"
      ]
     },
     "execution_count": 9,
     "metadata": {},
     "output_type": "execute_result"
    }
   ],
   "source": [
    "import numpy as np\n",
    "\n",
    "np.random.seed(123)\n",
    "np.random.randn(4, 2) #正規分布に従って4*2の配列を出力する"
   ]
  },
  {
   "cell_type": "markdown",
   "metadata": {},
   "source": [
    "## 同じ要素の数列を作る\n",
    "***\n",
    "zeros関数やones関数を用いて同じ要素が入った配列を生成できる\n",
    "***"
   ]
  },
  {
   "cell_type": "code",
   "execution_count": 14,
   "metadata": {},
   "outputs": [
    {
     "data": {
      "text/plain": [
       "array([[1., 1., 1., 1.],\n",
       "       [1., 1., 1., 1.],\n",
       "       [1., 1., 1., 1.]])"
      ]
     },
     "execution_count": 14,
     "metadata": {},
     "output_type": "execute_result"
    }
   ],
   "source": [
    "import numpy as np\n",
    "\n",
    "np.zeros(3) #すべて0の配列を生成\n",
    "np.zeros((2, 3))\n",
    "\n",
    "np.ones(2)\n",
    "np.ones((3, 4)) #すべて1の配列を生成"
   ]
  },
  {
   "cell_type": "markdown",
   "metadata": {},
   "source": [
    "## 単位行列\n",
    "***\n",
    "eye関数を用いることで指定する体格要素を持った単位行列を作ることができる\n",
    "***"
   ]
  },
  {
   "cell_type": "code",
   "execution_count": null,
   "metadata": {},
   "outputs": [],
   "source": []
  }
 ],
 "metadata": {
  "kernelspec": {
   "display_name": "Python 3",
   "language": "python",
   "name": "python3"
  },
  "language_info": {
   "codemirror_mode": {
    "name": "ipython",
    "version": 3
   },
   "file_extension": ".py",
   "mimetype": "text/x-python",
   "name": "python",
   "nbconvert_exporter": "python",
   "pygments_lexer": "ipython3",
   "version": "3.8.5"
  }
 },
 "nbformat": 4,
 "nbformat_minor": 4
}
